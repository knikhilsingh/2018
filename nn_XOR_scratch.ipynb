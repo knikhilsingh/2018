{
 "cells": [
  {
   "cell_type": "code",
   "execution_count": null,
   "metadata": {
    "collapsed": true
   },
   "outputs": [],
   "source": [
    "import numpy as np\n",
    "import time\n",
    "\n",
    "#variables\n",
    "n_hidden = 10\n",
    "n_in = 10\n",
    "\n",
    "#outputs\n",
    "n_out = 10\n",
    "#sampledata\n",
    "n_sample = 300\n",
    "\n",
    "#hyperparameters\n",
    "learning_rate = 0.01\n",
    "momentum = 0.9\n",
    "\n",
    "#non deterministic seeding\n",
    "np.random.seed(0)\n",
    "\n",
    "#activation functions\n",
    "\n",
    "def sigmoid(x):\n",
    "    return 1.0/(1.0 + np.exp(-x))\n",
    "\n",
    "def tanh_prime(x):\n",
    "    return 1 - np.tanh(x)**2\n",
    "\n"
   ]
  }
 ],
 "metadata": {
  "kernelspec": {
   "display_name": "Python 2",
   "language": "python",
   "name": "python2"
  },
  "language_info": {
   "codemirror_mode": {
    "name": "ipython",
    "version": 2
   },
   "file_extension": ".py",
   "mimetype": "text/x-python",
   "name": "python",
   "nbconvert_exporter": "python",
   "pygments_lexer": "ipython2",
   "version": "2.7.12"
  }
 },
 "nbformat": 4,
 "nbformat_minor": 2
}
